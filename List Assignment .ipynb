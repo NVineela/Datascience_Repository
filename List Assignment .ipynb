{
 "cells": [
  {
   "cell_type": "code",
   "execution_count": 4,
   "metadata": {},
   "outputs": [
    {
     "name": "stdout",
     "output_type": "stream",
     "text": [
      "Mumbai\n",
      "['Kerala', 'Mumbai', 'Bangalore']\n"
     ]
    },
    {
     "data": {
      "text/plain": [
       "'Bangalore'"
      ]
     },
     "execution_count": 4,
     "metadata": {},
     "output_type": "execute_result"
    }
   ],
   "source": [
    "#  1. City = [‘Gurgaon’, ’Mumbai’, ’Bangalore’]\n",
    "#  i) Print the second item from the list.\n",
    "#  ii) Change the value from \"Gurgaon\" to \"Kerala\"\n",
    "#  iii) Remove the last element of the list.\n",
    "\n",
    "#solution\n",
    "\n",
    "City = ['Gurgaon', 'Mumbai', 'Bangalore']\n",
    "print(City[1])     # printing second element\n",
    "City[0]='Kerala'    # updating first element \n",
    "print(City)\n",
    "City.pop()  # remove last element and print removed element"
   ]
  },
  {
   "cell_type": "code",
   "execution_count": 7,
   "metadata": {},
   "outputs": [
    {
     "name": "stdout",
     "output_type": "stream",
     "text": [
      "['Amaravati', 'Hyderabad', 'Vizag', 'Pune']\n",
      "Pune\n"
     ]
    }
   ],
   "source": [
    "# 2. Use negative indexing to print the last item in the list. Make\n",
    "#  a list by yourself.\n",
    "\n",
    "#solution\n",
    "\n",
    "List1=['Amaravati','Hyderabad','Vizag','Pune']\n",
    "print(List1)   # print list of elements\n",
    "print(List1[-1])  # print last element "
   ]
  },
  {
   "cell_type": "code",
   "execution_count": 12,
   "metadata": {},
   "outputs": [
    {
     "name": "stdout",
     "output_type": "stream",
     "text": [
      "['Hyderabad', 'Pune', 'Gurgaon']\n"
     ]
    }
   ],
   "source": [
    "# 3. Use a range of indexes to print the third, fourth, and fifth\n",
    "# item in the list. Make a list by yourself.\n",
    "\n",
    "# solution\n",
    "\n",
    "List2=['Mumbai','Goa','Hyderabad','Pune','Gurgaon','Bangalore','Chennai','Mysore','Delhi']\n",
    "print(List2[2:5]) # slicing third question"
   ]
  },
  {
   "cell_type": "code",
   "execution_count": 13,
   "metadata": {},
   "outputs": [
    {
     "data": {
      "text/plain": [
       "'Mumbai'"
      ]
     },
     "execution_count": 13,
     "metadata": {},
     "output_type": "execute_result"
    }
   ],
   "source": [
    "# 4. Remove the last element from the city list\n",
    "\n",
    "# Solution\n",
    "\n",
    "City.pop() # removing the last element in the list fourth queston"
   ]
  },
  {
   "cell_type": "code",
   "execution_count": 51,
   "metadata": {},
   "outputs": [
    {
     "name": "stdout",
     "output_type": "stream",
     "text": [
      "['apple', 'lichi', 'guava', 'cherry', 'mango', 'watermelon', 'banana']\n",
      "['apple', 'lichi', 'guava', 'cherry', 'mango', 'watermelon', 'banana', 'orange']\n",
      "['apple', 'lemon', 'lichi', 'guava', 'cherry', 'mango', 'watermelon', 'banana', 'orange']\n",
      "['apple', 'lemon', 'lichi', 'guava', 'mango', 'watermelon', 'banana', 'orange']\n"
     ]
    }
   ],
   "source": [
    "# 5. fruits=[‘apple’,’lichi’,’guava’,’cherry’,’mango’,’watermelon’,’banana’]\n",
    "#  i) Add \"orange\" at the end of the above list.\n",
    "#   ii) Add \"lemon\" as the second item in the fruits list\n",
    "\n",
    "# Solution\n",
    "\n",
    "fruits=['apple','lichi','guava','cherry','mango','watermelon','banana']\n",
    "print(fruits)\n",
    "fruits.append('orange')\n",
    "print(fruits)\n",
    "fruits.insert(1,'lemon')\n",
    "print(fruits)"
   ]
  },
  {
   "cell_type": "code",
   "execution_count": 54,
   "metadata": {},
   "outputs": [
    {
     "name": "stdout",
     "output_type": "stream",
     "text": [
      "['apple', 'lemon', 'lichi', 'guava', 'mango', 'watermelon', 'banana', 'orange']\n"
     ]
    }
   ],
   "source": [
    "# 6. Remove ‘cherry’ from the fruit list given above.\n",
    "\n",
    "# Solution\n",
    "\n",
    "fruits.remove('cherry')\n",
    "print(fruits)"
   ]
  },
  {
   "cell_type": "code",
   "execution_count": 28,
   "metadata": {},
   "outputs": [
    {
     "name": "stdout",
     "output_type": "stream",
     "text": [
      "enter the numbers of list separated by space2 1 5 2 8 4 7 3\n",
      "['2', '1', '5', '2', '8', '4', '7', '3']\n",
      "['8', '7', '5', '4', '3', '2', '2', '1']\n"
     ]
    }
   ],
   "source": [
    "# 7. Write the python program to let the user input a list of\n",
    "# numbers and print the list in descending order.\n",
    "\n",
    "\n",
    "# solution\n",
    "\n",
    "input_string=input(\"enter the numbers of list separated by space\")\n",
    "list=input_string.split()\n",
    "print(list)\n",
    "list.sort(reverse=True)\n",
    "print(list)\n"
   ]
  },
  {
   "cell_type": "code",
   "execution_count": 31,
   "metadata": {},
   "outputs": [
    {
     "name": "stdout",
     "output_type": "stream",
     "text": [
      "enter the first list elemnets separated with space4 5 6\n",
      "['4', '5', '6']\n",
      "enter the second list elements separated with space7 8 9\n",
      "['7', '8', '9']\n",
      "['4', '5', '6', '7', '8', '9']\n"
     ]
    }
   ],
   "source": [
    "# 8. Write the python program to let the user input two lists and\n",
    "#combine both the lists.\n",
    "\n",
    "# Solution\n",
    "\n",
    "input_string1=input(\"enter the first list elemnets separated with space\")\n",
    "list1=input_string1.split()\n",
    "print(list1)\n",
    "input_string2=input(\"enter the second list elements separated with space\")\n",
    "list2=input_string2.split()\n",
    "print(list2)\n",
    "list1.extend(list2)\n",
    "print(list1) # complete two lists will print"
   ]
  },
  {
   "cell_type": "code",
   "execution_count": 34,
   "metadata": {},
   "outputs": [
    {
     "name": "stdout",
     "output_type": "stream",
     "text": [
      "original string[10, 45, 78, 11, 9, 23]\n",
      "after shuffle[45, 10, 11, 78, 9, 23]\n"
     ]
    }
   ],
   "source": [
    "# 9.List = [10, 45, 78, 11, 9, 23]. Shuffle this list.\n",
    "\n",
    "# Solution\n",
    "\n",
    "import random\n",
    "List = [10, 45, 78, 11, 9, 23]\n",
    "print(\"original string\"+ str(List))  \n",
    "random.shuffle(List)\n",
    "print(\"after shuffle\"+ str(List))     # random shuffle function"
   ]
  },
  {
   "cell_type": "code",
   "execution_count": 44,
   "metadata": {},
   "outputs": [
    {
     "name": "stdout",
     "output_type": "stream",
     "text": [
      "z\n",
      "['baz', 2.718]\n"
     ]
    }
   ],
   "source": [
    "# 10 . x = [10, [3.141, 20, [30, 'baz', 2.718]], 'foo']\n",
    "#  i) What is the expression that returns the 'z' in 'baz'?\n",
    "#  ii) What expression returns the list ['baz', 2.718]?\n",
    "\n",
    "# Solution\n",
    "\n",
    "x = [10, [3.141, 20, [30, 'baz', 2.718]], 'foo']\n",
    "print(x[1][2][1][2])    # z element is at this position\n",
    "print(x[1][2][1:3])"
   ]
  },
  {
   "cell_type": "code",
   "execution_count": 45,
   "metadata": {},
   "outputs": [
    {
     "data": {
      "text/plain": [
       "20"
      ]
     },
     "execution_count": 45,
     "metadata": {},
     "output_type": "execute_result"
    }
   ],
   "source": [
    "# 11 .Extract element 20 from the above list.\n",
    "\n",
    "# Solution\n",
    "\n",
    "x[1][1] #prints 20"
   ]
  },
  {
   "cell_type": "code",
   "execution_count": 48,
   "metadata": {},
   "outputs": [
    {
     "name": "stdout",
     "output_type": "stream",
     "text": [
      "[1, 2, 7, 8]\n",
      "[1, 2, 3, 4, 5, 6, 7, 8]\n"
     ]
    }
   ],
   "source": [
    "# 12.You have a list a = [1, 2, 7, 8]\n",
    "# Write a Python statement using slice assignment that will fill in\n",
    "# the missing values so that a equals [1, 2, 3, 4, 5, 6, 7, 8]\n",
    "\n",
    "# Solution \n",
    "\n",
    "a=[1,2,7,8]\n",
    "print(a)\n",
    "a[0:7]=[1,2,3,4,5,6,7,8]\n",
    "print(a)"
   ]
  },
  {
   "cell_type": "code",
   "execution_count": null,
   "metadata": {},
   "outputs": [],
   "source": []
  }
 ],
 "metadata": {
  "kernelspec": {
   "display_name": "Python 3",
   "language": "python",
   "name": "python3"
  },
  "language_info": {
   "codemirror_mode": {
    "name": "ipython",
    "version": 3
   },
   "file_extension": ".py",
   "mimetype": "text/x-python",
   "name": "python",
   "nbconvert_exporter": "python",
   "pygments_lexer": "ipython3",
   "version": "3.8.5"
  }
 },
 "nbformat": 4,
 "nbformat_minor": 4
}
